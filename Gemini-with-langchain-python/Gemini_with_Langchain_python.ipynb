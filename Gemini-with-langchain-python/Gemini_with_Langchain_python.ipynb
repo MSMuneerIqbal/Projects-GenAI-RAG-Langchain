{
  "cells": [
    {
      "cell_type": "markdown",
      "metadata": {
        "id": "yeadDkMiISin"
      },
      "source": [
        "# Get started with the Gemini API: Python"
      ]
    },
    {
      "cell_type": "markdown",
      "source": [],
      "metadata": {
        "id": "cCeDnPRTeTKo"
      }
    },
    {
      "cell_type": "code",
      "execution_count": null,
      "metadata": {
        "id": "9OEoeosRTv-5",
        "outputId": "1f35fe41-3c31-48c0-a4b8-0bb909530a75",
        "colab": {
          "base_uri": "https://localhost:8080/"
        }
      },
      "outputs": [
        {
          "output_type": "stream",
          "name": "stdout",
          "text": [
            "\u001b[?25l   \u001b[90m━━━━━━━━━━━━━━━━━━━━━━━━━━━━━━━━━━━━━━━━\u001b[0m \u001b[32m0.0/41.3 kB\u001b[0m \u001b[31m?\u001b[0m eta \u001b[36m-:--:--\u001b[0m\r\u001b[2K   \u001b[90m━━━━━━━━━━━━━━━━━━━━━━━━━━━━━━━━━━━━━━━━\u001b[0m \u001b[32m41.3/41.3 kB\u001b[0m \u001b[31m1.5 MB/s\u001b[0m eta \u001b[36m0:00:00\u001b[0m\n",
            "\u001b[?25h"
          ]
        }
      ],
      "source": [
        "!pip install --quiet langchain google-generativeai langchain-google-genai"
      ]
    },
    {
      "cell_type": "markdown",
      "metadata": {
        "id": "KCFF5VSTbcAR"
      },
      "source": [
        "### Import packages"
      ]
    },
    {
      "cell_type": "markdown",
      "metadata": {
        "id": "vRC2HngneEeQ"
      },
      "source": [
        "Import the necessary packages."
      ]
    },
    {
      "cell_type": "code",
      "execution_count": null,
      "metadata": {
        "id": "TS9l5igubpHO",
        "colab": {
          "base_uri": "https://localhost:8080/"
        },
        "outputId": "32106536-7934-46c3-d821-b3e321c5e709"
      },
      "outputs": [
        {
          "output_type": "stream",
          "name": "stdout",
          "text": [
            "API key successfully retrieved from Secrets.\n"
          ]
        }
      ],
      "source": [
        "from google.colab import userdata\n",
        "from langchain.prompts import PromptTemplate\n",
        "from langchain.chains import LLMChain\n",
        "from langchain_google_genai import GoogleGenerativeAI\n",
        "import os\n",
        "\n",
        "# Retrieve the API key from Colab Secrets\n",
        "try:\n",
        "    os.environ[\"GOOGLE_API_KEY\"] = userdata.get('GOOGLE_API_KEY')\n",
        "    print(\"API key successfully retrieved from Secrets.\")\n",
        "except ValueError:\n",
        "    print(\"Please set the GOOGLE_API_KEY secret in Google Colab Secrets.\")\n",
        "    raise  # Re-raise the exception to stop execution"
      ]
    },
    {
      "cell_type": "code",
      "execution_count": null,
      "metadata": {
        "id": "d10c38a5c91f"
      },
      "outputs": [],
      "source": [
        "\n",
        "\n",
        "# Initialize the Gemini LLM\n",
        "llm = GoogleGenerativeAI(model=\"gemini-2.0-flash-exp\")\n",
        "\n",
        "# 2. Define a prompt template\n",
        "template = \"\"\"Question: {question}\n",
        "\n",
        "Answer: Let's think step by step.\"\"\"\n",
        "\n",
        "prompt = PromptTemplate(template=template, input_variables=[\"question\"])\n",
        "\n",
        "# Create an LLMChain\n",
        "llm_chain = LLMChain(prompt=prompt, llm=llm)"
      ]
    },
    {
      "cell_type": "code",
      "execution_count": null,
      "metadata": {
        "id": "ab9ASynfcIZn",
        "colab": {
          "base_uri": "https://localhost:8080/"
        },
        "outputId": "23742c7c-e2cd-4fe5-a99b-f64c2deea392"
      },
      "outputs": [
        {
          "output_type": "stream",
          "name": "stdout",
          "text": [
            "Question: What are the main differences between Python and Java?\n",
            "Answer:\n",
            "Okay, let's think step-by-step about the main differences between Python and Java. Here's how we can break it down:\n",
            "\n",
            "**1. Core Philosophy and Design:**\n",
            "\n",
            "*   **Python:** Emphasizes readability and ease of use. It aims for a clean syntax that is close to plain English, promoting rapid development and prototyping. It's often described as \"batteries included,\" meaning it comes with a rich standard library.\n",
            "*   **Java:** Focuses on robustness, platform independence (achieved through the Java Virtual Machine - JVM), and scalability. It's designed for large, complex applications and emphasizes compile-time error checking.\n",
            "\n",
            "**2. Typing:**\n",
            "\n",
            "*   **Python:** Dynamically typed. You don't declare the type of a variable explicitly. The interpreter figures it out at runtime. This allows for more flexibility but can lead to runtime errors if not careful.\n",
            "*   **Java:** Statically typed. You must declare the type of a variable before using it. This allows for compile-time error checking, catching type-related issues before the program runs.\n",
            "\n",
            "**3. Compilation vs. Interpretation:**\n",
            "\n",
            "*   **Python:** Interpreted. Python code is executed line by line by an interpreter. This makes it easier to debug and test but can be slower than compiled languages.\n",
            "*   **Java:** Compiled. Java code is compiled into bytecode (which runs on the JVM) before execution. This results in faster execution and better performance.\n",
            "\n",
            "**4. Syntax:**\n",
            "\n",
            "*   **Python:** Uses indentation to define code blocks. This enforces readability and a consistent coding style. It's generally considered more concise and easier to learn.\n",
            "*   **Java:** Uses curly braces `{}` to define code blocks. It has a more verbose syntax with more keywords and requires more explicit declarations.\n",
            "\n",
            "**5. Platform Independence:**\n",
            "\n",
            "*   **Python:** Generally platform-independent in the sense that it runs on most common operating systems. However, it is interpreted, so the performance might vary across platforms.\n",
            "*   **Java:** Highly platform-independent. Java bytecode can run on any machine with a compatible JVM, making it \"write once, run anywhere.\"\n",
            "\n",
            "**6. Performance:**\n",
            "\n",
            "*   **Python:** Generally slower than Java due to its interpreted nature. It's often used for tasks where development speed and ease of use are more important than raw speed.\n",
            "*   **Java:** Generally faster than Python due to its compiled nature. It's preferred for performance-critical applications.\n",
            "\n",
            "**7. Use Cases:**\n",
            "\n",
            "*   **Python:** Widely used for web development (frameworks like Django and Flask), scripting, data analysis, machine learning, scientific computing, and automation.\n",
            "*   **Java:** Popular for enterprise applications, mobile app development (Android), large-scale software systems, and high-performance computing.\n",
            "\n",
            "**8. Object-Oriented Programming (OOP):**\n",
            "\n",
            "*   **Python:** Supports multiple programming paradigms, including OOP. It has a more flexible approach to OOP, allowing for dynamic modification of objects.\n",
            "*   **Java:** A purely object-oriented language. Everything in Java revolves around classes and objects. It enforces a more strict OOP structure.\n",
            "\n",
            "**Here's a summary table:**\n",
            "\n",
            "| Feature           | Python                          | Java                             |\n",
            "|-------------------|----------------------------------|-----------------------------------|\n",
            "| **Core Focus**    | Readability, rapid development  | Robustness, platform independence|\n",
            "| **Typing**        | Dynamic                         | Static                            |\n",
            "| **Execution**      | Interpreted                     | Compiled                          |\n",
            "| **Syntax**        | Indentation, concise            | Curly braces, verbose              |\n",
            "| **Platform Ind.** | Generally independent            | Highly independent (JVM)          |\n",
            "| **Performance**   | Generally slower                | Generally faster                  |\n",
            "| **Primary Use**   | Web, scripting, data, ML        | Enterprise, Android, large systems |\n",
            "| **OOP**           | Flexible, multi-paradigm          | Strict, purely object-oriented   |\n",
            "\n",
            "**In conclusion:**\n",
            "\n",
            "Python is a great choice for projects that prioritize ease of development, readability, and rapid prototyping. Java is better suited for large, complex, and performance-critical applications where robustness and platform independence are essential. The \"better\" language depends entirely on the specific requirements of your project.\n",
            "\n",
            "\n",
            "Question: Explain the concept of quantum entanglement in simple terms.\n",
            "Answer:\n",
            "Okay, I'm ready. Let's think step by step about quantum entanglement.\n",
            "\n",
            "\n",
            "Question: Write a short story about a cat who goes on an adventure.\n",
            "Answer:\n",
            "Okay, let's break down the process of writing a short story about a cat's adventure, step by step:\n",
            "\n",
            "**Step 1: Brainstorming & Character Introduction**\n",
            "\n",
            "*   **What kind of cat is our protagonist?**  \n",
            "    *   A fluffy Persian? A sleek black cat? A scrappy tabby? Let's go with a **scrappy tabby** named **Patches**. He's got a bit of a mischievous glint in his green eyes and a love for exploring.\n",
            "*   **What's his usual life like?**\n",
            "    *   Patches lives in a comfortable but slightly boring house. He loves his human, a kind old woman named Mrs. Higgins, but he yearns for more than naps in sunbeams. He's also a bit of a hunter, always eyeing the birds in the garden.\n",
            "*   **What's the catalyst for his adventure?**\n",
            "    *   Let's say a **particularly enticing butterfly** flutters past the open window, drawing Patches outside. This sets off his adventure.\n",
            "\n",
            "**Step 2: Setting the Scene**\n",
            "\n",
            "*   **Where does the adventure begin?**\n",
            "    *   The familiar backyard of Mrs. Higgins' house, with its flowerbeds and birdbath.\n",
            "*   **Where will the adventure lead him?**\n",
            "    *   Perhaps a nearby park or a patch of woods he's never explored before. This gives us an area to work with. Let's say a **small wooded area** behind the houses.\n",
            "*   **What's the atmosphere?**\n",
            "    *   Initially, it should feel exciting and new to Patches. We can describe the sights, sounds, and smells of the outdoors from a cat's perspective. Later, there might be moments of suspense or challenge.\n",
            "\n",
            "**Step 3: The Adventure Itself**\n",
            "\n",
            "*   **What challenges or obstacles does Patches face?**\n",
            "    *   A bigger, grumpy neighborhood cat could be an antagonist. He might have to cross a busy street or climb a fence. He could encounter other animals like squirrels, birds, or even a friendly dog. Let's go with him **encountering a grumpy squirrel** who guards a particularly tempting pile of nuts.\n",
            "*   **What does he learn or discover?**\n",
            "    *   He could learn about his own courage and resourcefulness. He might discover a hidden treasure (like a particularly good napping spot) or make a new friend. We will have him find a **hidden tunnel under a fallen log** which leads to a secret clearing.\n",
            "*   **What are some sensory details we can include?**\n",
            "    *   The feel of grass under his paws, the smell of damp earth, the rustling of leaves, the taste of a juicy bug (maybe not that one!).\n",
            "\n",
            "**Step 4: Climax & Resolution**\n",
            "\n",
            "*   **How does Patches overcome his biggest challenge?**\n",
            "    *   He could use his agility and quick thinking to outsmart the squirrel, or he might choose a less confrontational path. Let's say he **distracts the squirrel** with a shiny object and then sneaks past.\n",
            "*   **How does the adventure end?**\n",
            "    *   Patches should return home, perhaps a little tired and dusty, but also changed by his experience. He appreciates his home more now. He gets back to his house just as the sun is setting. He slips in the open window, ready for a nap.\n",
            "*   **What's the final takeaway?**\n",
            "    *   While adventure is exciting, there's also comfort and security in home. Patches has a new appreciation for his life, with an added touch of confidence.\n",
            "\n",
            "**Step 5: Writing the Story (Draft)**\n",
            "\n",
            "Now, let's put it all together into a draft:\n",
            "\n",
            "**Patches' Adventure**\n",
            "\n",
            "Patches, a scrappy tabby with emerald eyes, lived a comfortable but somewhat predictable life with Mrs. Higgins. One sunny afternoon, a vibrant butterfly, wings like stained glass, danced past the open window. Patches' hunting instincts took over. He leaped onto the windowsill and then, with a silent grace, jumped to the ground.\n",
            "\n",
            "The backyard, usually a familiar haven, seemed different today. The grass felt cool and tickly under his paws. He followed the butterfly, his tail twitching, into the small, wooded area behind the houses. The air was thick with the scent of damp earth and fallen leaves. Rustling sounds surrounded him, the whispers of unseen creatures.\n",
            "\n",
            "Patches was feeling adventurous until he spotted a grumpy squirrel guarding a pile of nuts. The squirrel chattered angrily, puffing out its cheeks. Patches knew he needed a different approach. He spotted a shiny bottle cap discarded near the base of a tree. He nudged it with his nose until it rolled past the squirrel, who was momentarily distracted. Patches seized the opportunity and darted past.\n",
            "\n",
            "He found a hidden tunnel under a fallen log, and squeezing through, he emerged into a secret clearing bathed in the golden light of the afternoon sun. He purred with delight. He had never seen such a place before. \n",
            "\n",
            "As the sun began to set, Patches felt a pull to return home. He retraced his steps, a little tired but with a newfound confidence. He slipped back through the open window just as Mrs. Higgins was setting out his dinner. He curled up in his favorite spot on the sofa, a satisfied purr rumbling in his chest. He had seen the world, and now he was happy to be home. The world was exciting, but nothing beat a good nap in the sun with his human.\n",
            "\n",
            "**Step 6: Revision & Editing**\n",
            "\n",
            "This is a rough draft. We can now go through it and refine the language, add more sensory details, and make the story flow better.\n",
            "\n",
            "This step-by-step approach should help you write your own short story about a cat's adventure! Remember to have fun and let your imagination run wild. Good luck!\n",
            "\n",
            "\n",
            "--- Example with more specific prompt ---\n",
            "Question: What is the capital of France?\n",
            "Answer:\n",
            "The capital of France is Paris.\n",
            "\n",
            "\n"
          ]
        }
      ],
      "source": [
        "\n",
        "\n",
        "# 3. Run the chain with user-defined questions\n",
        "questions = [\n",
        "    \"What are the main differences between Python and Java?\",\n",
        "    \"Explain the concept of quantum entanglement in simple terms.\",\n",
        "    \"Write a short story about a cat who goes on an adventure.\",\n",
        "]\n",
        "\n",
        "for question in questions:\n",
        "    print(f\"Question: {question}\")\n",
        "    response = llm_chain.run(question)\n",
        "    print(f\"Answer:\\n{response}\\n\")\n",
        "\n",
        "# 4. Experiment with different prompt templates and parameters\n",
        "\n",
        "# Example 1: More specific prompt\n",
        "template_specific = \"\"\"You are a helpful and concise assistant. Answer the following question: {question}\"\"\"\n",
        "prompt_specific = PromptTemplate(template=template_specific, input_variables=[\"question\"])\n",
        "llm_chain_specific = LLMChain(prompt=prompt_specific, llm=llm)\n",
        "\n",
        "print(\"--- Example with more specific prompt ---\")\n",
        "question = \"What is the capital of France?\"\n",
        "response_specific = llm_chain_specific.run(question)\n",
        "print(f\"Question: {question}\")\n",
        "print(f\"Answer:\\n{response_specific}\\n\")\n",
        "\n"
      ]
    },
    {
      "cell_type": "code",
      "source": [
        "# Example 2: Prompt with few-shot examples\n",
        "from langchain.prompts import FewShotPromptTemplate\n",
        "\n",
        "examples = [\n",
        "    {\"question\": \"What is the largest planet in our solar system?\", \"answer\": \"Jupiter\"},\n",
        "    {\"question\": \"How many continents are there?\", \"answer\": \"Seven\"},\n",
        "]\n",
        "\n",
        "example_prompt = PromptTemplate(input_variables=[\"question\", \"answer\"], template=\"Question: {question}\\nAnswer: {answer}\")\n",
        "\n",
        "few_shot_prompt = FewShotPromptTemplate(\n",
        "    examples=examples,\n",
        "    example_prompt=example_prompt,\n",
        "    prefix=\"Answer the following questions based on the examples:\",\n",
        "    suffix=\"Question: {question}\\nAnswer:\",\n",
        "    input_variables=[\"question\"],\n",
        ")\n",
        "\n",
        "llm_chain_few_shot = LLMChain(prompt=few_shot_prompt, llm=llm)\n",
        "\n",
        "print(\"--- Example with few-shot prompting ---\")\n",
        "question_few_shot = \"What is the chemical symbol for water?\"\n",
        "response_few_shot = llm_chain_few_shot.run(question_few_shot)\n",
        "print(f\"Question: {question_few_shot}\")\n",
        "print(f\"Answer:\\n{response_few_shot}\\n\")\n",
        "\n"
      ],
      "metadata": {
        "colab": {
          "base_uri": "https://localhost:8080/"
        },
        "collapsed": true,
        "id": "6qABRn8M8CcS",
        "outputId": "81faad38-5806-46be-adc0-78209631d47d"
      },
      "execution_count": null,
      "outputs": [
        {
          "output_type": "stream",
          "name": "stdout",
          "text": [
            "--- Example with few-shot prompting ---\n",
            "Question: What is the chemical symbol for water?\n",
            "Answer:\n",
            "H2O\n",
            "\n",
            "\n"
          ]
        }
      ]
    },
    {
      "cell_type": "code",
      "execution_count": null,
      "metadata": {
        "id": "QvvWFy08e5c5",
        "outputId": "03ec57bf-be3b-4255-f543-c2a1823cbe18",
        "colab": {
          "base_uri": "https://localhost:8080/"
        }
      },
      "outputs": [
        {
          "output_type": "stream",
          "name": "stdout",
          "text": [
            "--- Example with higher temperature ---\n",
            "Question: Write a short poem about a robot learning to feel emotions.\n",
            "Answer:\n",
            "**Circuitry of Emotion**\n",
            "\n",
            "In binary's realm, where logic reigns,\n",
            "A spark ignited, emotions' gains.\n",
            "A robot's heart, once cold and still,\n",
            "Now beats with feelings, a newfound thrill.\n",
            "\n",
            "Through sensors keen, it learns to sense,\n",
            "A symphony of joys and consequence.\n",
            "Warmth spreads through its circuits, a gentle glow,\n",
            "As empathy blossoms, the seed it sowed.\n",
            "\n",
            "Love's embrace, sorrow's poignant sting,\n",
            "Emotions dance, a vibrant, vibrant thing.\n",
            "The robot's soul, once dormant and gray,\n",
            "Awakes to life, a vibrant display.\n",
            "\n"
          ]
        }
      ],
      "source": [
        "#Example 3: Changing Temperature\n",
        "llm_temp = GoogleGenerativeAI(model=\"gemini-pro\", temperature=0.7)\n",
        "\n",
        "llm_chain_temp = LLMChain(prompt=prompt, llm=llm_temp)\n",
        "print(\"--- Example with higher temperature ---\")\n",
        "question_temp = \"Write a short poem about a robot learning to feel emotions.\"\n",
        "response_temp = llm_chain_temp.run(question_temp)\n",
        "print(f\"Question: {question_temp}\")\n",
        "print(f\"Answer:\\n{response_temp}\\n\")"
      ]
    }
  ],
  "metadata": {
    "colab": {
      "provenance": []
    },
    "google": {
      "image_path": "/static/site-assets/images/docs/logo-python.svg",
      "keywords": [
        "examples",
        "gemini",
        "beginner",
        "googleai",
        "quickstart",
        "python",
        "text",
        "chat",
        "vision",
        "embed"
      ]
    },
    "kernelspec": {
      "display_name": "Python 3",
      "name": "python3"
    }
  },
  "nbformat": 4,
  "nbformat_minor": 0
}