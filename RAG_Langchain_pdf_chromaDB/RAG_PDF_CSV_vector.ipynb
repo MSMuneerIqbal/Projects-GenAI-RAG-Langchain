{
  "nbformat": 4,
  "nbformat_minor": 0,
  "metadata": {
    "colab": {
      "provenance": []
    },
    "kernelspec": {
      "name": "python3",
      "display_name": "Python 3"
    },
    "language_info": {
      "name": "python"
    }
  },
  "cells": [
    {
      "cell_type": "code",
      "execution_count": null,
      "metadata": {
        "id": "CdBSN0FaHMEB"
      },
      "outputs": [],
      "source": [
        "!pip install -qU langchain pinecone-client google-generativeai openai tqdm chromadb langchain_community langchain-google-genai CSVLoader pypdf PyPDFLoader\n"
      ]
    },
    {
      "cell_type": "code",
      "source": [
        "from google.colab import userdata\n",
        "key=userdata.get('GOOGLE_API_KEY')\n"
      ],
      "metadata": {
        "id": "S0lwTa1kL4wU"
      },
      "execution_count": 3,
      "outputs": []
    },
    {
      "cell_type": "code",
      "source": [
        "from langchain_google_genai import ChatGoogleGenerativeAI\n",
        "\n",
        "chat_model = ChatGoogleGenerativeAI(google_api_key=key,\n",
        "                                   model=\"gemini-1.5-flash\")"
      ],
      "metadata": {
        "id": "Rwwp8UAcMCe6"
      },
      "execution_count": 4,
      "outputs": []
    },
    {
      "cell_type": "markdown",
      "source": [
        "# RAG"
      ],
      "metadata": {
        "id": "MIPWh1BlMJej"
      }
    },
    {
      "cell_type": "code",
      "source": [
        "# import csv loader\n",
        "from langchain.document_loaders.csv_loader import CSVLoader\n",
        "# import text splitter\n",
        "from langchain.text_splitter import CharacterTextSplitter\n",
        "\n",
        "# Load the PDF using PyPDFLoader\n",
        "loader = CSVLoader(\"/content/faq_bot_university.csv\")\n",
        "documents = loader.load_and_split()  # Returns a list of Document objects"
      ],
      "metadata": {
        "id": "vacRTypPMNah"
      },
      "execution_count": 5,
      "outputs": []
    },
    {
      "cell_type": "code",
      "source": [
        "# to show some lines of documents\n",
        "documents[0].page_content[:100]"
      ],
      "metadata": {
        "colab": {
          "base_uri": "https://localhost:8080/",
          "height": 35
        },
        "id": "-iFWtImROl9N",
        "outputId": "58178572-a7f5-4ebb-cbb4-2bebf650ac95"
      },
      "execution_count": 6,
      "outputs": [
        {
          "output_type": "execute_result",
          "data": {
            "text/plain": [
              "'Question: What is the tuition fee for undergraduate programs?\\nAnswer: The tuition fee for undergradu'"
            ],
            "application/vnd.google.colaboratory.intrinsic+json": {
              "type": "string"
            }
          },
          "metadata": {},
          "execution_count": 6
        }
      ]
    },
    {
      "cell_type": "code",
      "source": [
        "# Extract the text content from the Document objects\n",
        "pages = [doc.page_content for doc in documents]"
      ],
      "metadata": {
        "id": "IUQXE7W-O_xR"
      },
      "execution_count": 7,
      "outputs": []
    },
    {
      "cell_type": "code",
      "source": [
        "len(pages)"
      ],
      "metadata": {
        "colab": {
          "base_uri": "https://localhost:8080/"
        },
        "id": "4V9bzxgMPCKa",
        "outputId": "2e3e5d6b-a638-48e2-8f81-babaeb526853"
      },
      "execution_count": 8,
      "outputs": [
        {
          "output_type": "execute_result",
          "data": {
            "text/plain": [
              "1000"
            ]
          },
          "metadata": {},
          "execution_count": 8
        }
      ]
    },
    {
      "cell_type": "code",
      "source": [
        "# Initialize the CharacterTextSplitter\n",
        "text_splitter = CharacterTextSplitter(chunk_size=500, chunk_overlap=100)\n",
        "\n",
        "# Split the text into chunks\n",
        "chunks = text_splitter.create_documents(pages)\n",
        "\n",
        "# Display results\n",
        "print(f\"Number of chunks: {len(chunks)}\")\n",
        "print(f\"Type of first chunk: {type(chunks[0])}\")"
      ],
      "metadata": {
        "colab": {
          "base_uri": "https://localhost:8080/"
        },
        "id": "URqR_oToPE3p",
        "outputId": "72a7b2eb-1bf0-424e-eebd-0ebfa5c3df22"
      },
      "execution_count": 9,
      "outputs": [
        {
          "output_type": "stream",
          "name": "stdout",
          "text": [
            "Number of chunks: 1000\n",
            "Type of first chunk: <class 'langchain_core.documents.base.Document'>\n"
          ]
        }
      ]
    },
    {
      "cell_type": "code",
      "source": [
        "chunks[3]"
      ],
      "metadata": {
        "colab": {
          "base_uri": "https://localhost:8080/"
        },
        "id": "K5bFX13tPQZw",
        "outputId": "513eade5-ff93-46f6-b02c-102bcd327ced"
      },
      "execution_count": 10,
      "outputs": [
        {
          "output_type": "execute_result",
          "data": {
            "text/plain": [
              "Document(metadata={}, page_content='Question: Can international students apply for financial aid?\\nAnswer: Yes, international students can apply for financial aid.')"
            ]
          },
          "metadata": {},
          "execution_count": 10
        }
      ]
    },
    {
      "cell_type": "code",
      "source": [
        "from langchain_google_genai import GoogleGenerativeAIEmbeddings\n",
        "\n",
        "embedding_model = GoogleGenerativeAIEmbeddings(google_api_key=key, model=\"models/embedding-001\")"
      ],
      "metadata": {
        "id": "QK4nQ3u1PX1J"
      },
      "execution_count": 11,
      "outputs": []
    },
    {
      "cell_type": "code",
      "source": [
        "embedding_model = GoogleGenerativeAIEmbeddings(google_api_key=key,  model=\"models/text-embedding-004\",  chunk_size=100,task_type=\"retrieval_document\")\n"
      ],
      "metadata": {
        "id": "XK35lZcZPqzW"
      },
      "execution_count": 12,
      "outputs": []
    },
    {
      "cell_type": "code",
      "source": [
        "\n",
        "from langchain_community.vectorstores import Chroma\n",
        "vector_store = Chroma.from_documents(documents, embedding=embedding_model)"
      ],
      "metadata": {
        "id": "eSY9j0hJPwf5"
      },
      "execution_count": 13,
      "outputs": []
    },
    {
      "cell_type": "code",
      "source": [
        "llm = ChatGoogleGenerativeAI(google_api_key=key,\n",
        "                                   model=\"gemini-1.5-flash\")"
      ],
      "metadata": {
        "id": "6ztGxSQYP2Qe"
      },
      "execution_count": 14,
      "outputs": []
    },
    {
      "cell_type": "code",
      "source": [
        "retriever = vector_store.as_retriever(search_kwargs={\"k\": 5})\n",
        "\n",
        "print(type(retriever))"
      ],
      "metadata": {
        "colab": {
          "base_uri": "https://localhost:8080/"
        },
        "id": "zWh76hzSP8mm",
        "outputId": "a6e4f637-a55a-462e-85c4-759f87d04835"
      },
      "execution_count": 15,
      "outputs": [
        {
          "output_type": "stream",
          "name": "stdout",
          "text": [
            "<class 'langchain_core.vectorstores.base.VectorStoreRetriever'>\n"
          ]
        }
      ]
    },
    {
      "cell_type": "code",
      "source": [
        "from langchain_core.messages import SystemMessage\n",
        "from langchain_core.prompts import ChatPromptTemplate, HumanMessagePromptTemplate"
      ],
      "metadata": {
        "id": "mTefOJeBQGLe"
      },
      "execution_count": 16,
      "outputs": []
    },
    {
      "cell_type": "code",
      "source": [
        "chat_template = ChatPromptTemplate.from_messages([\n",
        "    # System Message Prompt Template\n",
        "    SystemMessage(content=\"\"\"You are a Helpful AI Bot.\n",
        "                  Given a context and question from user,\n",
        "                  you should answer based on the given context.\"\"\"),\n",
        "    # Human Message Prompt Template\n",
        "    HumanMessagePromptTemplate.from_template(\"\"\"Answer the question based on the given context.\n",
        "    Context: {context}\n",
        "    Question: {question}\n",
        "    Answer: \"\"\")\n",
        "])"
      ],
      "metadata": {
        "id": "3QIK818KQL4t"
      },
      "execution_count": 17,
      "outputs": []
    },
    {
      "cell_type": "code",
      "source": [
        "\n",
        "from langchain_core.output_parsers import StrOutputParser\n",
        "\n",
        "output_parser = StrOutputParser()"
      ],
      "metadata": {
        "id": "kcVj0umrQRKF"
      },
      "execution_count": 18,
      "outputs": []
    },
    {
      "cell_type": "code",
      "source": [
        "\n",
        "from langchain_core.runnables import RunnablePassthrough\n",
        "\n",
        "def format_docs(docs):\n",
        "    return \"\\n\\n\".join(doc.page_content for doc in docs)\n",
        "\n",
        "\n",
        "rag_chain = (\n",
        "    {\"context\": retriever | format_docs, \"question\": RunnablePassthrough()}\n",
        "    | chat_template\n",
        "    | chat_model\n",
        "    | output_parser\n",
        ")"
      ],
      "metadata": {
        "id": "YsBzhCqzQXBN"
      },
      "execution_count": 19,
      "outputs": []
    },
    {
      "cell_type": "code",
      "source": [
        "response = rag_chain.invoke(\"\"\"what is the tution fee for undergraduate program\"\"\")\n",
        "\n",
        "response"
      ],
      "metadata": {
        "colab": {
          "base_uri": "https://localhost:8080/",
          "height": 35
        },
        "id": "uPIFt77hQckm",
        "outputId": "4c0142bc-cc1d-418d-b748-859cbf038015"
      },
      "execution_count": 21,
      "outputs": [
        {
          "output_type": "execute_result",
          "data": {
            "text/plain": [
              "'$15,000 per year'"
            ],
            "application/vnd.google.colaboratory.intrinsic+json": {
              "type": "string"
            }
          },
          "metadata": {},
          "execution_count": 21
        }
      ]
    },
    {
      "cell_type": "code",
      "source": [
        "response = retriever.invoke(\"\"\"explain about the document\"\"\")\n",
        "\n",
        "response"
      ],
      "metadata": {
        "colab": {
          "base_uri": "https://localhost:8080/"
        },
        "id": "s2w5OHpOQh_k",
        "outputId": "36aae058-19c6-4187-8ad2-3fad478451fe"
      },
      "execution_count": 22,
      "outputs": [
        {
          "output_type": "execute_result",
          "data": {
            "text/plain": [
              "[Document(metadata={'row': 871, 'source': '/content/faq_bot_university.csv'}, page_content='Question: When is the admission deadline?\\nAnswer: The admission deadline is April 30.'),\n",
              " Document(metadata={'row': 171, 'source': '/content/faq_bot_university.csv'}, page_content='Question: When is the admission deadline?\\nAnswer: The admission deadline is April 30.'),\n",
              " Document(metadata={'row': 436, 'source': '/content/faq_bot_university.csv'}, page_content='Question: When is the admission deadline?\\nAnswer: The admission deadline is April 30.'),\n",
              " Document(metadata={'row': 701, 'source': '/content/faq_bot_university.csv'}, page_content='Question: When is the admission deadline?\\nAnswer: The admission deadline is April 30.'),\n",
              " Document(metadata={'row': 351, 'source': '/content/faq_bot_university.csv'}, page_content='Question: When is the admission deadline?\\nAnswer: The admission deadline is April 30.')]"
            ]
          },
          "metadata": {},
          "execution_count": 22
        }
      ]
    }
  ]
}