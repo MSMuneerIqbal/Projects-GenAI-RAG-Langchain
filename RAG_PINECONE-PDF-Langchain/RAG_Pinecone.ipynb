{
  "nbformat": 4,
  "nbformat_minor": 0,
  "metadata": {
    "colab": {
      "provenance": []
    },
    "kernelspec": {
      "name": "python3",
      "display_name": "Python 3"
    },
    "language_info": {
      "name": "python"
    }
  },
  "cells": [
    {
      "cell_type": "code",
      "execution_count": 1,
      "metadata": {
        "colab": {
          "base_uri": "https://localhost:8080/"
        },
        "id": "VxVSgYFsYEns",
        "outputId": "07e85446-f42d-4a0f-9a4c-b18958fb562c"
      },
      "outputs": [
        {
          "output_type": "stream",
          "name": "stdout",
          "text": [
            "\u001b[?25l   \u001b[90m━━━━━━━━━━━━━━━━━━━━━━━━━━━━━━━━━━━━━━━━\u001b[0m \u001b[32m0.0/427.3 kB\u001b[0m \u001b[31m?\u001b[0m eta \u001b[36m-:--:--\u001b[0m\r\u001b[2K   \u001b[91m━━━━━━━━━━━━━━━━━━━━━━━━━━━━━━━━━━━━━━━\u001b[0m\u001b[90m╺\u001b[0m \u001b[32m419.8/427.3 kB\u001b[0m \u001b[31m13.6 MB/s\u001b[0m eta \u001b[36m0:00:01\u001b[0m\r\u001b[2K   \u001b[90m━━━━━━━━━━━━━━━━━━━━━━━━━━━━━━━━━━━━━━━━\u001b[0m \u001b[32m427.3/427.3 kB\u001b[0m \u001b[31m9.4 MB/s\u001b[0m eta \u001b[36m0:00:00\u001b[0m\n",
            "\u001b[?25h\u001b[?25l   \u001b[90m━━━━━━━━━━━━━━━━━━━━━━━━━━━━━━━━━━━━━━━━\u001b[0m \u001b[32m0.0/87.5 kB\u001b[0m \u001b[31m?\u001b[0m eta \u001b[36m-:--:--\u001b[0m\r\u001b[2K   \u001b[90m━━━━━━━━━━━━━━━━━━━━━━━━━━━━━━━━━━━━━━━━\u001b[0m \u001b[32m87.5/87.5 kB\u001b[0m \u001b[31m6.3 MB/s\u001b[0m eta \u001b[36m0:00:00\u001b[0m\n",
            "\u001b[2K   \u001b[90m━━━━━━━━━━━━━━━━━━━━━━━━━━━━━━━━━━━━━━━━\u001b[0m \u001b[32m216.4/216.4 kB\u001b[0m \u001b[31m14.8 MB/s\u001b[0m eta \u001b[36m0:00:00\u001b[0m\n",
            "\u001b[2K   \u001b[90m━━━━━━━━━━━━━━━━━━━━━━━━━━━━━━━━━━━━━━━━\u001b[0m \u001b[32m2.3/2.3 MB\u001b[0m \u001b[31m44.8 MB/s\u001b[0m eta \u001b[36m0:00:00\u001b[0m\n",
            "\u001b[2K   \u001b[90m━━━━━━━━━━━━━━━━━━━━━━━━━━━━━━━━━━━━━━━━\u001b[0m \u001b[32m298.0/298.0 kB\u001b[0m \u001b[31m19.5 MB/s\u001b[0m eta \u001b[36m0:00:00\u001b[0m\n",
            "\u001b[2K   \u001b[90m━━━━━━━━━━━━━━━━━━━━━━━━━━━━━━━━━━━━━━━━\u001b[0m \u001b[32m164.2/164.2 kB\u001b[0m \u001b[31m12.1 MB/s\u001b[0m eta \u001b[36m0:00:00\u001b[0m\n",
            "\u001b[2K   \u001b[90m━━━━━━━━━━━━━━━━━━━━━━━━━━━━━━━━━━━━━━━━\u001b[0m \u001b[32m718.3/718.3 kB\u001b[0m \u001b[31m35.7 MB/s\u001b[0m eta \u001b[36m0:00:00\u001b[0m\n",
            "\u001b[2K   \u001b[90m━━━━━━━━━━━━━━━━━━━━━━━━━━━━━━━━━━━━━━━━\u001b[0m \u001b[32m1.0/1.0 MB\u001b[0m \u001b[31m44.3 MB/s\u001b[0m eta \u001b[36m0:00:00\u001b[0m\n",
            "\u001b[2K   \u001b[90m━━━━━━━━━━━━━━━━━━━━━━━━━━━━━━━━━━━━━━━━\u001b[0m \u001b[32m397.1/397.1 kB\u001b[0m \u001b[31m23.3 MB/s\u001b[0m eta \u001b[36m0:00:00\u001b[0m\n",
            "\u001b[2K   \u001b[90m━━━━━━━━━━━━━━━━━━━━━━━━━━━━━━━━━━━━━━━━\u001b[0m \u001b[32m311.8/311.8 kB\u001b[0m \u001b[31m19.9 MB/s\u001b[0m eta \u001b[36m0:00:00\u001b[0m\n",
            "\u001b[2K   \u001b[90m━━━━━━━━━━━━━━━━━━━━━━━━━━━━━━━━━━━━━━━━\u001b[0m \u001b[32m48.9/48.9 kB\u001b[0m \u001b[31m3.4 MB/s\u001b[0m eta \u001b[36m0:00:00\u001b[0m\n",
            "\u001b[?25h"
          ]
        }
      ],
      "source": [
        "%pip install -qU pinecone langchain-pinecone langchain-google-genai langchain_community pypdf"
      ]
    },
    {
      "cell_type": "markdown",
      "source": [
        "# Accessing PineCone api key"
      ],
      "metadata": {
        "id": "uaDjKtRtKeHv"
      }
    },
    {
      "cell_type": "code",
      "source": [
        "from google.colab import userdata\n",
        "import getpass\n",
        "from pinecone import Pinecone, ServerlessSpec\n",
        "pinecone_api_key = userdata.get('PINECONE_API_KEY')\n",
        "pc = Pinecone(pinecone_api_key)"
      ],
      "metadata": {
        "id": "_GwLG_SNanqE"
      },
      "execution_count": 4,
      "outputs": []
    },
    {
      "cell_type": "markdown",
      "source": [
        "# Creating Index"
      ],
      "metadata": {
        "id": "Rddv394uKaAw"
      }
    },
    {
      "cell_type": "code",
      "source": [
        "index_name = \"online-rag-project\"\n",
        "\n",
        "pc.create_index(\n",
        "    name=index_name,\n",
        "    dimension=768, # Replace with your model dimensions\n",
        "    metric=\"cosine\", # Replace with your model metric\n",
        "    spec=ServerlessSpec(\n",
        "        cloud=\"aws\",\n",
        "        region=\"us-east-1\"\n",
        "    )\n",
        ")\n",
        "index = pc.Index(index_name)"
      ],
      "metadata": {
        "id": "kpcOB_ULdPYT"
      },
      "execution_count": 5,
      "outputs": []
    },
    {
      "cell_type": "markdown",
      "source": [
        "# Accessing gemini api key and embedding model"
      ],
      "metadata": {
        "id": "icimIJEYKMrg"
      }
    },
    {
      "cell_type": "code",
      "source": [
        "from langchain_google_genai import GoogleGenerativeAIEmbeddings\n",
        "import os\n",
        "os.environ[\"GOOGLE_API_KEY\"] = userdata.get('GOOGLE_API_KEY')\n",
        "\n",
        "embeddings = GoogleGenerativeAIEmbeddings(model=\"models/embedding-001\")"
      ],
      "metadata": {
        "id": "j8lf0nwXiz30"
      },
      "execution_count": 6,
      "outputs": []
    },
    {
      "cell_type": "code",
      "source": [
        "vector = embeddings.embed_query(\"This is the RAG project\")"
      ],
      "metadata": {
        "id": "eVtDmFxOkp11"
      },
      "execution_count": null,
      "outputs": []
    },
    {
      "cell_type": "markdown",
      "source": [
        "# store vectors"
      ],
      "metadata": {
        "id": "JsyH0bmREZYk"
      }
    },
    {
      "cell_type": "code",
      "source": [
        "from langchain_pinecone import PineconeVectorStore\n",
        "\n",
        "vector_store = PineconeVectorStore(index=index, embedding=embeddings)"
      ],
      "metadata": {
        "id": "vhIHNvYrEej_"
      },
      "execution_count": 7,
      "outputs": []
    },
    {
      "cell_type": "markdown",
      "source": [
        "# Loading pdf and spliting into chunks"
      ],
      "metadata": {
        "id": "fHYoGCIfTnv6"
      }
    },
    {
      "cell_type": "code",
      "source": [
        "from langchain.document_loaders import PyPDFLoader\n",
        "from langchain.text_splitter import RecursiveCharacterTextSplitter\n",
        "\n",
        "def load_and_split_pdf(pdf_path, chunk_size=1000, chunk_overlap=200):\n",
        "    \"\"\"Loads a PDF, splits it into chunks, and returns a list of Documents.\"\"\"\n",
        "    try:\n",
        "        loader = PyPDFLoader(pdf_path)\n",
        "        documents = loader.load()\n",
        "    except FileNotFoundError:\n",
        "        print(f\"Error: File not found: {pdf_path}\")\n",
        "        return None\n",
        "    except Exception as e:\n",
        "        print(f\"Error loading PDF: {e}\")\n",
        "        return None\n",
        "\n",
        "    text_splitter = RecursiveCharacterTextSplitter(\n",
        "        chunk_size=chunk_size, chunk_overlap=chunk_overlap\n",
        "    )\n",
        "    docs = text_splitter.split_documents(documents)\n",
        "    return docs\n",
        "\n",
        "# Example usage:\n",
        "pdf_file = \"/content/Generative AI Suggested Projects For Hackathon.pdf\" # Make sure the PDF is in your Colab environment\n",
        "loaded_docs = load_and_split_pdf(pdf_file)\n",
        "\n",
        "if loaded_docs:\n",
        "    print(f\"Loaded {len(loaded_docs)} chunks from PDF.\")\n",
        "    # Now you can use loaded_docs with your vector store (Pinecone)\n",
        "    # ... (Your existing code for indexing with Pinecone)\n",
        "else:\n",
        "    print(\"Failed to load or split the PDF.\")"
      ],
      "metadata": {
        "colab": {
          "base_uri": "https://localhost:8080/"
        },
        "id": "Xb5g7qlwZ7o9",
        "outputId": "d5ee5249-8c3c-4e32-90c3-cc41884b5770"
      },
      "execution_count": 9,
      "outputs": [
        {
          "output_type": "stream",
          "name": "stdout",
          "text": [
            "Loaded 6 chunks from PDF.\n"
          ]
        }
      ]
    },
    {
      "cell_type": "markdown",
      "source": [
        "# embedd data and storing into pinecone vector database"
      ],
      "metadata": {
        "id": "GlBVy4PIJ--J"
      }
    },
    {
      "cell_type": "code",
      "source": [
        "vector_store.add_documents(loaded_docs)\n",
        "print(\"PDF indexed successfully.\")"
      ],
      "metadata": {
        "colab": {
          "base_uri": "https://localhost:8080/"
        },
        "id": "gUpyOK0razTS",
        "outputId": "18c7e080-f302-4f64-94f6-050286a3f57e"
      },
      "execution_count": 10,
      "outputs": [
        {
          "output_type": "stream",
          "name": "stdout",
          "text": [
            "PDF indexed successfully.\n"
          ]
        }
      ]
    },
    {
      "cell_type": "markdown",
      "source": [
        "# Data Retrieval"
      ],
      "metadata": {
        "id": "8qQ1q4hmJodb"
      }
    },
    {
      "cell_type": "code",
      "source": [
        "results = vector_store.similarity_search_with_score(\n",
        "    \"Machine Learning project\"\n",
        ")\n",
        "for res, score in results:\n",
        "    print(f\"* [SIM={score:3f}] {res.page_content} [{res.metadata}]\")"
      ],
      "metadata": {
        "colab": {
          "base_uri": "https://localhost:8080/"
        },
        "id": "x0vsN99EHfP5",
        "outputId": "b86469dd-33eb-4ead-c51b-e4b444ff4a63"
      },
      "execution_count": 17,
      "outputs": [
        {
          "output_type": "stream",
          "name": "stdout",
          "text": [
            "* [SIM=0.605620] 11.AI-PoweredPersonalFinanceAssistant\n",
            "Description:Createatoolthathelpsusersmanagetheirfinancesbyanalyzingspendingpatternsandsuggestingsavingsstrategies.\n",
            "Model:UtilizeNLPmodelsforfinancialdataanalysisandrecommendations.\n",
            "12.AI-BasedArtGenerator\n",
            "Description:Buildanapplicationthatgeneratesuniquepiecesofartorimagesbasedontextualdescriptions.\n",
            "Model:UseDALL-EminiorCLIP-basedmodelsfortext-to-imagegeneration.\n",
            "13.RecipeGenerator\n",
            "Description:Createanappthatgeneratescookingrecipesbasedonavailableingredientsinputbytheuser.\n",
            "Model:UtilizeGPT-3orsimilarmodelsfine-tunedforrecipegeneration.\n",
            "14.AI-DrivenStoryGenerator\n",
            "Description:Developanapplicationthatgeneratescreativeshortstoriesbasedonagivenprompt.\n",
            "Model:UseGPT-3orotherstorygenerationmodelsavailableonHuggingFace.\n",
            "15.Voice-BasedVirtualAssistant\n",
            "Description:Createa virtualassistantthatrespondsto voicecommandstoperformtaskslikesettingremindersorsearchingtheweb. [{'page': 2.0, 'source': '/content/Generative AI Suggested Projects For Hackathon.pdf'}]\n",
            "* [SIM=0.601044] 5. SentimentAnalysisTool\n",
            "Description:Createan appthatanalyzesthesentimentof user-generatedcontentliketweetsorreviews.\n",
            "Model:UtilizeBERT-basedsentimentanalysismodelsfromHuggingFace.\n",
            "6. ImageCaptioningTool\n",
            "Description:Buildan appthatgeneratescaptionsforimagesuploadedbyusers.\n",
            "Model:Use modelslike BLIP or VQGAN+CLIPfor generatingimagedescriptions.\n",
            "7. AI-DrivenEmailAssistant\n",
            "Description:Createanapplicationthatdraftsemailresponsesbasedonthecontentofincomingemails.\n",
            "Model:Useafine-tunedversionofGPT-3forgeneratingemailcontent.\n",
            "8. ResumeEnhancer\n",
            "Description:Developan appthathelpsusersimprovetheirresumesbysuggestingenhancementsandoptimizinglanguage.\n",
            "Model:LeverageBERT or GPT-basedmodelsfine-tunedfor professionallanguageenhancement.\n",
            "9. Text-to-SpeechConverter\n",
            "Description:Createan appthatconvertswrittentextintonatural-soundingspeech.\n",
            "Model:UsemodelslikeTacotron2orTTSmodelsavailableonHuggingFace.\n",
            "10.AI-BasedQuizGenerator [{'page': 1.0, 'source': '/content/Generative AI Suggested Projects For Hackathon.pdf'}]\n",
            "* [SIM=0.600828] Model:LeveragemodelslikeGPT-3orGPT-Neoforcontentcreation.\n",
            "4. AI-PoweredTranslationService\n",
            "Description:Developa real-timetranslationapp that supportsmultiplelanguages.\n",
            "Model:UsemodelslikeMarianMTorM2M100fortranslationtasks. [{'page': 0.0, 'source': '/content/Generative AI Suggested Projects For Hackathon.pdf'}]\n",
            "* [SIM=0.596609] GenerativeAI SuggestedProjectsForHackathon\n",
            "Note: Donot just sticktotheseideas, youcanbuildyourownideaaswell. Best of Luck!!!\n",
            "Hereare15GenerativeAIapplicationprojectideasthatcanbedevelopedanddeployedin a 2-dayhackathonusingexistingmodelsonHuggingFace,withsupportfromChatGPTforimplementation:\n",
            "1. TextSummarizationTool\n",
            "Description:Developanappthatautomaticallysummarizeslongarticlesordocumentsintoconcisesummaries.\n",
            "Model:Usepre-trainedtextsummarizationmodelslikeBART or T5 fromHuggingFace.\n",
            "2. AI-PoweredChatbotforCustomerSupport\n",
            "Description:Createa chatbotthatcanhandlecustomerinquiriesusingaconversationalAImodel.\n",
            "Model:UsemodelslikeGPT-3orDialoGPTtobuildaresponsivechatbot.\n",
            "3. AI-BasedContentGenerator\n",
            "Description:Buildanappthatgeneratesblogposts,socialmediacontent,orproductdescriptions.\n",
            "Model:LeveragemodelslikeGPT-3orGPT-Neoforcontentcreation.\n",
            "4. AI-PoweredTranslationService\n",
            "Description:Developa real-timetranslationapp that supportsmultiplelanguages. [{'page': 0.0, 'source': '/content/Generative AI Suggested Projects For Hackathon.pdf'}]\n"
          ]
        }
      ]
    },
    {
      "cell_type": "code",
      "source": [
        "results = vector_store.similarity_search(\n",
        "    \"Machine Learning project\",\n",
        "    k=2\n",
        ")\n",
        "for res in results:\n",
        "    print(f\"* {res.page_content} [{res.metadata}]\")"
      ],
      "metadata": {
        "colab": {
          "base_uri": "https://localhost:8080/"
        },
        "id": "4CFsykBiIFWS",
        "outputId": "9a83d79c-39ed-4e16-a1a7-662fdc93b935"
      },
      "execution_count": 19,
      "outputs": [
        {
          "output_type": "stream",
          "name": "stdout",
          "text": [
            "* 11.AI-PoweredPersonalFinanceAssistant\n",
            "Description:Createatoolthathelpsusersmanagetheirfinancesbyanalyzingspendingpatternsandsuggestingsavingsstrategies.\n",
            "Model:UtilizeNLPmodelsforfinancialdataanalysisandrecommendations.\n",
            "12.AI-BasedArtGenerator\n",
            "Description:Buildanapplicationthatgeneratesuniquepiecesofartorimagesbasedontextualdescriptions.\n",
            "Model:UseDALL-EminiorCLIP-basedmodelsfortext-to-imagegeneration.\n",
            "13.RecipeGenerator\n",
            "Description:Createanappthatgeneratescookingrecipesbasedonavailableingredientsinputbytheuser.\n",
            "Model:UtilizeGPT-3orsimilarmodelsfine-tunedforrecipegeneration.\n",
            "14.AI-DrivenStoryGenerator\n",
            "Description:Developanapplicationthatgeneratescreativeshortstoriesbasedonagivenprompt.\n",
            "Model:UseGPT-3orotherstorygenerationmodelsavailableonHuggingFace.\n",
            "15.Voice-BasedVirtualAssistant\n",
            "Description:Createa virtualassistantthatrespondsto voicecommandstoperformtaskslikesettingremindersorsearchingtheweb. [{'page': 2.0, 'source': '/content/Generative AI Suggested Projects For Hackathon.pdf'}]\n",
            "* 5. SentimentAnalysisTool\n",
            "Description:Createan appthatanalyzesthesentimentof user-generatedcontentliketweetsorreviews.\n",
            "Model:UtilizeBERT-basedsentimentanalysismodelsfromHuggingFace.\n",
            "6. ImageCaptioningTool\n",
            "Description:Buildan appthatgeneratescaptionsforimagesuploadedbyusers.\n",
            "Model:Use modelslike BLIP or VQGAN+CLIPfor generatingimagedescriptions.\n",
            "7. AI-DrivenEmailAssistant\n",
            "Description:Createanapplicationthatdraftsemailresponsesbasedonthecontentofincomingemails.\n",
            "Model:Useafine-tunedversionofGPT-3forgeneratingemailcontent.\n",
            "8. ResumeEnhancer\n",
            "Description:Developan appthathelpsusersimprovetheirresumesbysuggestingenhancementsandoptimizinglanguage.\n",
            "Model:LeverageBERT or GPT-basedmodelsfine-tunedfor professionallanguageenhancement.\n",
            "9. Text-to-SpeechConverter\n",
            "Description:Createan appthatconvertswrittentextintonatural-soundingspeech.\n",
            "Model:UsemodelslikeTacotron2orTTSmodelsavailableonHuggingFace.\n",
            "10.AI-BasedQuizGenerator [{'page': 1.0, 'source': '/content/Generative AI Suggested Projects For Hackathon.pdf'}]\n"
          ]
        }
      ]
    }
  ]
}