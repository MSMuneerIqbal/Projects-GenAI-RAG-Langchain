{
  "nbformat": 4,
  "nbformat_minor": 0,
  "metadata": {
    "colab": {
      "provenance": []
    },
    "kernelspec": {
      "name": "python3",
      "display_name": "Python 3"
    },
    "language_info": {
      "name": "python"
    }
  },
  "cells": [
    {
      "cell_type": "code",
      "execution_count": null,
      "metadata": {
        "id": "VxVSgYFsYEns"
      },
      "outputs": [],
      "source": [
        "%pip install -qU pinecone langchain-pinecone langchain-google-genai langchain_community pypdf"
      ]
    },
    {
      "cell_type": "markdown",
      "source": [
        "# Accessing PineCone api key"
      ],
      "metadata": {
        "id": "uaDjKtRtKeHv"
      }
    },
    {
      "cell_type": "code",
      "source": [
        "from google.colab import userdata\n",
        "import getpass\n",
        "from pinecone import Pinecone, ServerlessSpec\n",
        "pinecone_api_key = userdata.get('PINECONE_API_KEY')\n",
        "pc = Pinecone(pinecone_api_key)"
      ],
      "metadata": {
        "id": "_GwLG_SNanqE"
      },
      "execution_count": 2,
      "outputs": []
    },
    {
      "cell_type": "markdown",
      "source": [
        "# Creating Index"
      ],
      "metadata": {
        "id": "Rddv394uKaAw"
      }
    },
    {
      "cell_type": "code",
      "source": [
        "index_name = \"online-rag-project\"\n",
        "\n",
        "pc.create_index(\n",
        "    name=index_name,\n",
        "    dimension=768, # Replace with your model dimensions\n",
        "    metric=\"cosine\", # Replace with your model metric\n",
        "    spec=ServerlessSpec(\n",
        "        cloud=\"aws\",\n",
        "        region=\"us-east-1\"\n",
        "    )\n",
        ")\n",
        "index = pc.Index(index_name)"
      ],
      "metadata": {
        "id": "kpcOB_ULdPYT"
      },
      "execution_count": 3,
      "outputs": []
    },
    {
      "cell_type": "markdown",
      "source": [
        "# Accessing gemini api key and embedding model"
      ],
      "metadata": {
        "id": "icimIJEYKMrg"
      }
    },
    {
      "cell_type": "code",
      "source": [
        "from langchain_google_genai import GoogleGenerativeAIEmbeddings\n",
        "import os\n",
        "os.environ[\"GOOGLE_API_KEY\"] = userdata.get('GOOGLE_API_KEY')\n",
        "\n",
        "embeddings = GoogleGenerativeAIEmbeddings(model=\"models/embedding-001\")"
      ],
      "metadata": {
        "id": "j8lf0nwXiz30"
      },
      "execution_count": 4,
      "outputs": []
    },
    {
      "cell_type": "code",
      "source": [
        "vector = embeddings.embed_query(\"This is the RAG project\")"
      ],
      "metadata": {
        "id": "eVtDmFxOkp11"
      },
      "execution_count": 5,
      "outputs": []
    },
    {
      "cell_type": "markdown",
      "source": [
        "# store vectors"
      ],
      "metadata": {
        "id": "JsyH0bmREZYk"
      }
    },
    {
      "cell_type": "code",
      "source": [
        "from langchain_pinecone import PineconeVectorStore\n",
        "\n",
        "vector_store = PineconeVectorStore(index=index, embedding=embeddings)"
      ],
      "metadata": {
        "id": "vhIHNvYrEej_"
      },
      "execution_count": 6,
      "outputs": []
    },
    {
      "cell_type": "markdown",
      "source": [
        "# Loading pdf and spliting into chunks"
      ],
      "metadata": {
        "id": "fHYoGCIfTnv6"
      }
    },
    {
      "cell_type": "code",
      "source": [
        "from langchain.document_loaders import PyPDFLoader\n",
        "from langchain.text_splitter import RecursiveCharacterTextSplitter\n",
        "\n",
        "def load_and_split_pdf(pdf_path, chunk_size=1000, chunk_overlap=200):\n",
        "    \"\"\"Loads a PDF, splits it into chunks, and returns a list of Documents.\"\"\"\n",
        "    try:\n",
        "        loader = PyPDFLoader(pdf_path)\n",
        "        documents = loader.load()\n",
        "    except FileNotFoundError:\n",
        "        print(f\"Error: File not found: {pdf_path}\")\n",
        "        return None\n",
        "    except Exception as e:\n",
        "        print(f\"Error loading PDF: {e}\")\n",
        "        return None\n",
        "\n",
        "    text_splitter = RecursiveCharacterTextSplitter(\n",
        "        chunk_size=chunk_size, chunk_overlap=chunk_overlap\n",
        "    )\n",
        "    docs = text_splitter.split_documents(documents)\n",
        "    return docs\n",
        "\n",
        "# Example usage:\n",
        "pdf_file = \"/content/Generative AI Suggested Projects For Hackathon.pdf\" # Make sure the PDF is in your Colab environment\n",
        "loaded_docs = load_and_split_pdf(pdf_file)\n",
        "\n",
        "if loaded_docs:\n",
        "    print(f\"Loaded {len(loaded_docs)} chunks from PDF.\")\n",
        "    # Now you can use loaded_docs with your vector store (Pinecone)\n",
        "    # ... (Your existing code for indexing with Pinecone)\n",
        "else:\n",
        "    print(\"Failed to load or split the PDF.\")"
      ],
      "metadata": {
        "colab": {
          "base_uri": "https://localhost:8080/"
        },
        "id": "Xb5g7qlwZ7o9",
        "outputId": "05a8f2c9-8b85-41cd-cae2-2e95ef7c16b5"
      },
      "execution_count": 7,
      "outputs": [
        {
          "output_type": "stream",
          "name": "stdout",
          "text": [
            "Loaded 6 chunks from PDF.\n"
          ]
        }
      ]
    },
    {
      "cell_type": "markdown",
      "source": [
        "# embedd data and storing into pinecone vector database"
      ],
      "metadata": {
        "id": "GlBVy4PIJ--J"
      }
    },
    {
      "cell_type": "code",
      "source": [
        "vector_store.add_documents(loaded_docs)\n",
        "print(\"PDF indexed successfully.\")"
      ],
      "metadata": {
        "colab": {
          "base_uri": "https://localhost:8080/"
        },
        "id": "gUpyOK0razTS",
        "outputId": "9c59ab90-9292-4165-ca6b-f9758f0b5b56"
      },
      "execution_count": 8,
      "outputs": [
        {
          "output_type": "stream",
          "name": "stdout",
          "text": [
            "PDF indexed successfully.\n"
          ]
        }
      ]
    },
    {
      "cell_type": "markdown",
      "source": [
        "# Data Retrieval"
      ],
      "metadata": {
        "id": "8qQ1q4hmJodb"
      }
    },
    {
      "cell_type": "code",
      "source": [
        "results = vector_store.similarity_search_with_score(\n",
        "    \"Machine Learning project\"\n",
        ")\n",
        "for res, score in results:\n",
        "    print(f\"* [SIM={score:3f}] {res.page_content} [{res.metadata}]\")"
      ],
      "metadata": {
        "id": "x0vsN99EHfP5"
      },
      "execution_count": null,
      "outputs": []
    },
    {
      "cell_type": "code",
      "source": [
        "results = vector_store.similarity_search(\n",
        "    \"Machine Learning project\",\n",
        "    k=2\n",
        ")\n",
        "for res in results:\n",
        "    print(f\"* {res.page_content} [{res.metadata}]\")"
      ],
      "metadata": {
        "id": "4CFsykBiIFWS"
      },
      "execution_count": null,
      "outputs": []
    },
    {
      "cell_type": "code",
      "source": [
        "response = vector_store.similarity_search_with_relevance_scores(\n",
        "    \"Machine Learning project\",\n",
        "    k=2\n",
        ")\n",
        "\n",
        "# Iterate through the list of tuples (document, score)\n",
        "for doc, score in response:\n",
        "    print(doc.page_content)  # Access page_content from the Document object\n",
        "    print(doc.metadata)\n",
        "    print(score)"
      ],
      "metadata": {
        "colab": {
          "base_uri": "https://localhost:8080/"
        },
        "id": "JYi6VhE838SZ",
        "outputId": "8bc7c1b9-4f65-4ae8-b9ea-3d77a14d5cf5"
      },
      "execution_count": 15,
      "outputs": [
        {
          "output_type": "stream",
          "name": "stdout",
          "text": [
            "11.AI-PoweredPersonalFinanceAssistant\n",
            "Description:Createatoolthathelpsusersmanagetheirfinancesbyanalyzingspendingpatternsandsuggestingsavingsstrategies.\n",
            "Model:UtilizeNLPmodelsforfinancialdataanalysisandrecommendations.\n",
            "12.AI-BasedArtGenerator\n",
            "Description:Buildanapplicationthatgeneratesuniquepiecesofartorimagesbasedontextualdescriptions.\n",
            "Model:UseDALL-EminiorCLIP-basedmodelsfortext-to-imagegeneration.\n",
            "13.RecipeGenerator\n",
            "Description:Createanappthatgeneratescookingrecipesbasedonavailableingredientsinputbytheuser.\n",
            "Model:UtilizeGPT-3orsimilarmodelsfine-tunedforrecipegeneration.\n",
            "14.AI-DrivenStoryGenerator\n",
            "Description:Developanapplicationthatgeneratescreativeshortstoriesbasedonagivenprompt.\n",
            "Model:UseGPT-3orotherstorygenerationmodelsavailableonHuggingFace.\n",
            "15.Voice-BasedVirtualAssistant\n",
            "Description:Createa virtualassistantthatrespondsto voicecommandstoperformtaskslikesettingremindersorsearchingtheweb.\n",
            "{'page': 2.0, 'page_label': '3', 'source': '/content/Generative AI Suggested Projects For Hackathon.pdf'}\n",
            "0.802816272\n",
            "5. SentimentAnalysisTool\n",
            "Description:Createan appthatanalyzesthesentimentof user-generatedcontentliketweetsorreviews.\n",
            "Model:UtilizeBERT-basedsentimentanalysismodelsfromHuggingFace.\n",
            "6. ImageCaptioningTool\n",
            "Description:Buildan appthatgeneratescaptionsforimagesuploadedbyusers.\n",
            "Model:Use modelslike BLIP or VQGAN+CLIPfor generatingimagedescriptions.\n",
            "7. AI-DrivenEmailAssistant\n",
            "Description:Createanapplicationthatdraftsemailresponsesbasedonthecontentofincomingemails.\n",
            "Model:Useafine-tunedversionofGPT-3forgeneratingemailcontent.\n",
            "8. ResumeEnhancer\n",
            "Description:Developan appthathelpsusersimprovetheirresumesbysuggestingenhancementsandoptimizinglanguage.\n",
            "Model:LeverageBERT or GPT-basedmodelsfine-tunedfor professionallanguageenhancement.\n",
            "9. Text-to-SpeechConverter\n",
            "Description:Createan appthatconvertswrittentextintonatural-soundingspeech.\n",
            "Model:UsemodelslikeTacotron2orTTSmodelsavailableonHuggingFace.\n",
            "10.AI-BasedQuizGenerator\n",
            "{'page': 1.0, 'page_label': '2', 'source': '/content/Generative AI Suggested Projects For Hackathon.pdf'}\n",
            "0.800632477\n"
          ]
        }
      ]
    }
  ]
}