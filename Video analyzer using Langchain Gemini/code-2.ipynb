{
  "nbformat": 4,
  "nbformat_minor": 0,
  "metadata": {
    "colab": {
      "provenance": []
    },
    "kernelspec": {
      "name": "python3",
      "display_name": "Python 3"
    },
    "language_info": {
      "name": "python"
    }
  },
  "cells": [
    {
      "cell_type": "markdown",
      "source": [
        "## Installing libraries used for langchain and for google api key"
      ],
      "metadata": {
        "id": "BeQsb69U1jYV"
      }
    },
    {
      "cell_type": "markdown",
      "source": [
        "# Prompt of generated video from Runway ML\n",
        "### \"Generate a 30-second animated video illustrating the journey of a butterfly. Start with the butterfly emerging from its chrysalis, followed by scenes of it exploring flowers, and conclude with the butterfly flying into a sunset. Use vibrant, naturalistic visuals.\"\n"
      ],
      "metadata": {
        "id": "Bdbvvb727aD7"
      }
    },
    {
      "cell_type": "code",
      "execution_count": null,
      "metadata": {
        "colab": {
          "base_uri": "https://localhost:8080/"
        },
        "id": "Y9XP73WDwILY",
        "outputId": "70b1f7a0-7d6b-4d96-92e0-05b1e8cb7de6"
      },
      "outputs": [
        {
          "output_type": "stream",
          "name": "stdout",
          "text": [
            "\u001b[?25l   \u001b[90m━━━━━━━━━━━━━━━━━━━━━━━━━━━━━━━━━━━━━━━━\u001b[0m \u001b[32m0.0/41.3 kB\u001b[0m \u001b[31m?\u001b[0m eta \u001b[36m-:--:--\u001b[0m\r\u001b[2K   \u001b[90m━━━━━━━━━━━━━━━━━━━━━━━━━━━━━━━━━━━━━━━━\u001b[0m \u001b[32m41.3/41.3 kB\u001b[0m \u001b[31m1.3 MB/s\u001b[0m eta \u001b[36m0:00:00\u001b[0m\n",
            "\u001b[?25h"
          ]
        }
      ],
      "source": [
        "!pip install -q -U langchain\n",
        "!pip install -q -U google-genai\n",
        "!pip install -q -U langchain-google-genai"
      ]
    },
    {
      "cell_type": "markdown",
      "source": [
        "## importing api key from secrets"
      ],
      "metadata": {
        "id": "R5v0okig2F8L"
      }
    },
    {
      "cell_type": "code",
      "source": [
        "from google.colab import userdata\n",
        "import os\n",
        "os.environ[\"GOOGLE_API_KEY\"] = userdata.get('GOOGLE_API_KEY')"
      ],
      "metadata": {
        "id": "oXjzDTBww9oN"
      },
      "execution_count": null,
      "outputs": []
    },
    {
      "cell_type": "code",
      "source": [
        "from langchain_google_genai import ChatGoogleGenerativeAI\n",
        "from langchain_core.prompts import ChatPromptTemplate\n",
        "from langchain_core.output_parsers import JsonOutputParser\n",
        "from langchain.schema import SystemMessage\n",
        "import json\n",
        "import os"
      ],
      "metadata": {
        "id": "OkL1S4E24-GB"
      },
      "execution_count": null,
      "outputs": []
    },
    {
      "cell_type": "code",
      "source": [
        "\n",
        "def analyze_video_with_langchain(video_path):\n",
        "    \"\"\"Analyzes an AI-generated video using Langchain and Gemini.\"\"\"\n",
        "\n",
        "    # 1.  Initialize the Model\n",
        "    llm = ChatGoogleGenerativeAI(model=\"gemini-2.0-flash-exp\", google_api_key=os.environ[\"GOOGLE_API_KEY\"])\n",
        "\n",
        "    # 2. Define the Prompt\n",
        "    system_template = \"\"\"\n",
        "    You are an expert video analyzer. Your task is to describe scenes from a video.\n",
        "    Pay attention to key visual elements and any spoken words.\n",
        "    The provided video is AI generated, so there might be some minor inconsistencies.\n",
        "    \"\"\"\n",
        "    human_template = \"\"\"\n",
        "     For each distinct scene in the provided video, generate a caption.\n",
        "     Include the approximate starting timecode (in seconds) of the scene, a detailed description of the visual elements in the scene,\n",
        "     and any spoken text present in that scene.\n",
        "     Output your response as a JSON array of objects, where each object represents a scene with the following keys:\n",
        "\n",
        "        \"timecode_seconds\": (float),\n",
        "        \"description\": (string),\n",
        "        \"spoken_text\": (string).\n",
        "     If there is no spoken text, set the value of \"spoken_text\" to null.\n",
        "\n",
        "    Do not use any preambles or other information outside the JSON format.\n",
        "\n",
        "    \"\"\"\n",
        "    prompt = ChatPromptTemplate.from_messages(\n",
        "        [\n",
        "           SystemMessage(content=system_template),\n",
        "            (\"human\", \"{video_path} \" + human_template), # Pass video path to the prompt\n",
        "        ]\n",
        "    )\n",
        "    parser = JsonOutputParser()\n",
        "\n",
        "\n",
        "    # 3. Create a Chain (using the Prompt, Parser, and LLM)\n",
        "    chain = prompt | llm | parser\n",
        "\n",
        "    # 4. Run the chain with the video path\n",
        "    try:\n",
        "       output = chain.invoke({\"video_path\": video_path})\n",
        "       #print(json.dumps(output, indent=4))  #Pretty print the output\n",
        "\n",
        "       return output #Return the parsed output\n",
        "    except Exception as e:\n",
        "       print(f\"An error occurred: {e}\")\n",
        "       return None\n",
        "\n"
      ],
      "metadata": {
        "id": "4Bgq7Kp540XL"
      },
      "execution_count": null,
      "outputs": []
    },
    {
      "cell_type": "markdown",
      "source": [
        "## Giving path of the saved video\n"
      ],
      "metadata": {
        "id": "SawOpHba8Hgw"
      }
    },
    {
      "cell_type": "code",
      "source": [
        "if __name__ == \"__main__\":\n",
        "\n",
        "\n",
        "  video_file_path = \"/content/butterfly_journey.mp4\"\n",
        "\n",
        "\n",
        "  analysis_result = analyze_video_with_langchain(video_file_path)\n",
        "\n",
        "  if analysis_result:\n",
        "        print(\"Video Analysis Results:\")\n",
        "        print(json.dumps(analysis_result, indent=4))\n",
        "  else:\n",
        "       print(\"Video analysis failed\")"
      ],
      "metadata": {
        "colab": {
          "base_uri": "https://localhost:8080/"
        },
        "id": "sKmsTXBW8F0S",
        "outputId": "2f2fc9bf-9d0d-438a-9794-e6382cd3bb68"
      },
      "execution_count": null,
      "outputs": [
        {
          "output_type": "stream",
          "name": "stdout",
          "text": [
            "Video Analysis Results:\n",
            "[\n",
            "    {\n",
            "        \"timecode_seconds\": 0.0,\n",
            "        \"description\": \"The video opens with a close-up shot of a monarch butterfly caterpillar munching on a green leaf. The caterpillar is green with black and yellow stripes. The leaf is textured and has visible veins. The background is blurred, suggesting a shallow depth of field.\",\n",
            "        \"spoken_text\": \"null\"\n",
            "    },\n",
            "    {\n",
            "        \"timecode_seconds\": 2.9,\n",
            "        \"description\": \"The camera zooms out slightly to reveal more of the plant. The caterpillar continues to eat the leaf. The background is still out of focus but appears to be more leaves and foliage.\",\n",
            "        \"spoken_text\": \"null\"\n",
            "    },\n",
            "    {\n",
            "        \"timecode_seconds\": 5.8,\n",
            "        \"description\": \"The scene transitions to a different shot of the caterpillar, now hanging upside down in a J-shape, preparing to pupate. It is attached to a thin stem or branch. The background is a mix of blurry green and brown.\",\n",
            "        \"spoken_text\": \"null\"\n",
            "    },\n",
            "    {\n",
            "        \"timecode_seconds\": 8.8,\n",
            "        \"description\": \"The caterpillar is now encased in a jade green chrysalis. The chrysalis is smooth and has a slightly translucent quality. It hangs from a thin branch or stem. The background is a mix of blurred green and brown foliage.\",\n",
            "        \"spoken_text\": \"null\"\n",
            "    },\n",
            "    {\n",
            "        \"timecode_seconds\": 11.8,\n",
            "        \"description\": \"The chrysalis begins to darken, showing the developing butterfly inside. The chrysalis is now a darker green color with subtle black markings. The background remains blurry green and brown.\",\n",
            "        \"spoken_text\": \"null\"\n",
            "    },\n",
            "    {\n",
            "        \"timecode_seconds\": 14.8,\n",
            "        \"description\": \"The chrysalis is now mostly black with orange markings, indicating the butterfly is about to emerge. The chrysalis is still hanging from a branch. The background is blurred.\",\n",
            "        \"spoken_text\": \"null\"\n",
            "    },\n",
            "    {\n",
            "        \"timecode_seconds\": 17.8,\n",
            "        \"description\": \"The butterfly emerges from the chrysalis, its wings crumpled and wet. The empty chrysalis shell hangs nearby. The butterfly is orange and black, characteristic of a Monarch. The background is blurry green and brown.\",\n",
            "        \"spoken_text\": \"null\"\n",
            "    },\n",
            "    {\n",
            "        \"timecode_seconds\": 20.8,\n",
            "        \"description\": \"Close up of the newly emerged butterfly as it begins to spread its wings, revealing its full pattern. The wings are still slightly damp. The background is blurred.\",\n",
            "        \"spoken_text\": \"null\"\n",
            "    },\n",
            "    {\n",
            "        \"timecode_seconds\": 23.8,\n",
            "        \"description\": \"The butterfly is now fully emerged and has fully spread its wings. It is perched on a small twig. The background is blurry green and brown.\",\n",
            "        \"spoken_text\": \"null\"\n",
            "    },\n",
            "    {\n",
            "        \"timecode_seconds\": 26.8,\n",
            "        \"description\": \"The butterfly takes flight, soaring through a field of purple flowers. The background is slightly blurred, creating a sense of movement.\",\n",
            "        \"spoken_text\": \"null\"\n",
            "    },\n",
            "    {\n",
            "        \"timecode_seconds\": 29.8,\n",
            "        \"description\": \"The butterfly continues to fly over the field of purple flowers and passes a yellow flower. The background is a blurry mix of colors.\",\n",
            "        \"spoken_text\": \"null\"\n",
            "    },\n",
            "    {\n",
            "        \"timecode_seconds\": 32.9,\n",
            "        \"description\": \"The butterfly continues its flight, now with a bright blue sky in the background. The field of flowers is visible below, though blurred in the distance.\",\n",
            "        \"spoken_text\": \"null\"\n",
            "    }\n",
            "]\n"
          ]
        }
      ]
    }
  ]
}