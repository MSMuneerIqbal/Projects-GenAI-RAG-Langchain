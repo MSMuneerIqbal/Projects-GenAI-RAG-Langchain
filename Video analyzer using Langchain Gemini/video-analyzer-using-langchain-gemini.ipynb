{
  "nbformat": 4,
  "nbformat_minor": 0,
  "metadata": {
    "colab": {
      "provenance": []
    },
    "kernelspec": {
      "name": "python3",
      "display_name": "Python 3"
    },
    "language_info": {
      "name": "python"
    }
  },
  "cells": [
    {
      "cell_type": "markdown",
      "source": [
        "# video generaton prompt\n",
        "### \"Generate a 40-second animated video illustrating the journey of a butterfly. Start with the butterfly emerging from its chrysalis, followed by scenes of it exploring flowers, and conclude with the butterfly flying into a sunset. Use vibrant, naturalistic visuals.\"\n"
      ],
      "metadata": {
        "id": "HfnXLVq5TBFU"
      }
    },
    {
      "cell_type": "markdown",
      "source": [
        "# Required Libraries"
      ],
      "metadata": {
        "id": "2nxMdB77S2rV"
      }
    },
    {
      "cell_type": "code",
      "source": [
        "!pip install -q -U langchain\n",
        "!pip install -q -U google-genai\n",
        "!pip install -q -U langchain-google-genai"
      ],
      "metadata": {
        "id": "TZ-gyHgHB__x"
      },
      "execution_count": null,
      "outputs": []
    },
    {
      "cell_type": "markdown",
      "source": [
        "## Accessing google api key from secrets"
      ],
      "metadata": {
        "id": "FkiMoYP0TZIa"
      }
    },
    {
      "cell_type": "code",
      "source": [
        "from google.colab import userdata\n",
        "import os\n",
        "os.environ[\"GOOGLE_API_KEY\"] = userdata.get('GOOGLE_API_KEY')"
      ],
      "metadata": {
        "id": "nTJamYTBCKxe"
      },
      "execution_count": null,
      "outputs": []
    },
    {
      "cell_type": "markdown",
      "source": [
        "## importing libraries"
      ],
      "metadata": {
        "id": "ZWCs4UpHTgbC"
      }
    },
    {
      "cell_type": "code",
      "source": [
        "from langchain_google_genai import ChatGoogleGenerativeAI\n",
        "from google.genai.types import Content , Part\n",
        "from IPython.display import Markdown,display"
      ],
      "metadata": {
        "id": "j6xl3_q8CSHd"
      },
      "execution_count": null,
      "outputs": []
    },
    {
      "cell_type": "markdown",
      "source": [
        "## Defining model"
      ],
      "metadata": {
        "id": "tVmnkMneTlNB"
      }
    },
    {
      "cell_type": "code",
      "source": [
        "llm = ChatGoogleGenerativeAI(\n",
        "    model = \"gemini-2.0-flash-exp\",\n",
        "    api_key= userdata.get(\"GOOGLE_API_KEY\"),\n",
        "    temperature=0.5\n",
        ")"
      ],
      "metadata": {
        "id": "nDVIb47cCZ7t"
      },
      "execution_count": null,
      "outputs": []
    },
    {
      "cell_type": "markdown",
      "source": [
        "## path of the video and givig to the model"
      ],
      "metadata": {
        "id": "DibUFBKNTriZ"
      }
    },
    {
      "cell_type": "code",
      "source": [
        "import time\n",
        "from google import genai\n",
        "\n",
        "client = genai.Client(api_key=userdata.get(\"GOOGLE_API_KEY\"))\n",
        "path_video = \"/content/Butterfly.mp4\"\n",
        "\n",
        "\n",
        "video_file = client.files.upload(path=path_video)\n"
      ],
      "metadata": {
        "id": "rtdm7yodG1Ig"
      },
      "execution_count": null,
      "outputs": []
    },
    {
      "cell_type": "markdown",
      "source": [
        "## setting up the parameters of the model and give to model"
      ],
      "metadata": {
        "id": "3ACJcsMVT2Cp"
      }
    },
    {
      "cell_type": "code",
      "source": [
        "def analyze_video_with_langchain(video_file):\n",
        "  prompt_template = \"\"\"\n",
        "  For each scene in this video,\n",
        "  generate captions that describe the scene along with any spoken text placed in quotation marks.\n",
        "  Place each caption into an object with the timecode of the caption in the video.\n",
        "         \"\"\"\n",
        "\n",
        "  response = client.models.generate_content(\n",
        "    model=\"gemini-2.0-flash-exp\",\n",
        "    contents=[\n",
        "        Content(\n",
        "            role=\"user\",\n",
        "            parts=[\n",
        "                Part.from_uri(\n",
        "                    file_uri=video_file.uri or \"\",\n",
        "                    mime_type=video_file.mime_type or \"\"),\n",
        "            ]),\n",
        "        Content(\n",
        "            role=\"user\",\n",
        "            parts=[Part(text=prompt_template)]\n",
        "        )\n",
        "    ]\n",
        "  )\n",
        "  print(\"Video Analysis:\")\n",
        "  display(Markdown(response.text))"
      ],
      "metadata": {
        "id": "sLOlHUDVNK3W"
      },
      "execution_count": null,
      "outputs": []
    },
    {
      "cell_type": "markdown",
      "source": [
        "## Model Response of generated video"
      ],
      "metadata": {
        "id": "qoHiZXcAUC5g"
      }
    },
    {
      "cell_type": "code",
      "source": [
        "analyze_video_with_langchain(video_file)"
      ],
      "metadata": {
        "colab": {
          "base_uri": "https://localhost:8080/",
          "height": 1000
        },
        "id": "XKRV8H3qNSwl",
        "outputId": "9d8c10d7-0653-4f7c-b618-d73981624a9d"
      },
      "execution_count": null,
      "outputs": [
        {
          "output_type": "stream",
          "name": "stdout",
          "text": [
            "Video Analysis:\n"
          ]
        },
        {
          "output_type": "display_data",
          "data": {
            "text/plain": [
              "<IPython.core.display.Markdown object>"
            ],
            "text/markdown": "```json\n[\n  {\n    \"timecode\": \"0:00\",\n    \"caption\": \"A dark chrysalis hangs from a brown tree branch against a white background.  The text \\\"I'VE JUST\\\" is placed next to the branch.\"\n  },\n {\n    \"timecode\": \"0:00\",\n     \"caption\":\"The text on the screen changes to \\\"I'VE JUST EMERGED FROM MY CHRYSALIS.\\\"  The chrysalis is still hanging from the tree branch.\"\n   },\n  {\n    \"timecode\": \"0:02\",\n    \"caption\": \"A globe appears next to the branch followed by the text \\\"A WORLD OF WONDER AWAITS.\\\" Then the chrysalis opens and a butterfly hangs down from the open chrysalis.\"\n   },\n   {\n    \"timecode\": \"0:04\",\n    \"caption\": \"A blue butterfly flies past the chrysalis which continues to be held open by the monarch butterfly hanging down, and the text \\\"MY WINGS ARE DAMP AND CRUMPLED\\\" is placed on screen.\"\n    },\n{\n    \"timecode\":\"0:06\",\n    \"caption\":\"A green background with a branch and a dark chrysalis hanging from it. The text \\\"SOON\\\" is placed with an arrow pointing to the chrysalis.\"\n},\n{\n    \"timecode\":\"0:08\",\n    \"caption\":\"The text changes to \\\"SOON THEY'LL STRETCH WIDE, REVEALING VIBRANT COLORS.\\\" The chrysalis opens and the butterfly hangs out of it.\"\n},\n{\n   \"timecode\":\"0:10\",\n    \"caption\":\"A small girl with a yellow shirt and green ponytail holders in her hair looks at flowers in a field with the text \\\"LOOK AT THESE FLOWERS.\\\"\"\n},\n{\n   \"timecode\":\"0:12\",\n    \"caption\":\"A close up shot of several colorful flowers with the text \\\"EACH PETAL IS A TREASURE TROVE OF NECTAR.\\\"\"\n},\n  {\n    \"timecode\":\"0:14\",\n    \"caption\": \"Two butterflies sit on the ground as two little shoe emojis appear between them, followed by the text \\\"AND I DANCE FROM\\\".\"\n   },\n  {\n    \"timecode\":\"0:16\",\n    \"caption\":\"A pink flower emoji appears followed by the text \\\"BLOOM, SIPPING NATURE'S SWEET REWARDS.\\\"\"\n},\n{\n  \"timecode\":\"0:19\",\n  \"caption\":\"A close up shot of the center of a sunflower with a sun emoji. The text \\\"THE SUN WARMS MY WINGS, AND\\\" appears.\"\n},\n{\n   \"timecode\": \"0:22\",\n    \"caption\":\"The camera is out of focus with a wind emoji. The text \\\"ALIVE, FLUTTERING THROUGH THE AIR\\\" appears.\"\n},\n{\n    \"timecode\": \"0:25\",\n    \"caption\":\"The text changes to \\\"ALIVE, FLUTTERING THROUGH THE AIR, WEAVING BETWEEN BLOSSOMS.\\\"\"\n},\n{\n    \"timecode\": \"0:28\",\n    \"caption\":\"A party hat emoji appears against a blurry background with the text \\\"EVERY MOMENT IS A\\\".\"\n},\n{\n  \"timecode\":\"0:29\",\n  \"caption\":\"The party hat remains with the text \\\"EVERY MOMENT IS A CELEBRATION OF LIFE.\\\"\"\n},\n{\n   \"timecode\":\"0:30\",\n  \"caption\":\"The party hat is gone but the text remains with a sun emoji.  The text changes to \\\"AS THE DAY FADES, I SOAR HIGHER,\\\"\"\n},\n{\n   \"timecode\":\"0:33\",\n   \"caption\":\"A butterfly flies past a mountain with a golden number 1 on a medal in front of the mountain and the text \\\"CHASING THE GOLDEN HUES OF THE SUNSET.\\\"\"\n},\n{\n  \"timecode\":\"0:36\",\n  \"caption\":\"A space shuttle takes off with an image of the Statue of Liberty near the top of the shuttle. The text reads \\\"THIS IS\\\".\"\n},\n{\n   \"timecode\":\"0:38\",\n    \"caption\":\"A cloud with the sun emoji appears next to the shuttle, followed by the text \\\"THIS IS FREEDOM, MY STORY\\\".\"\n },\n{\n   \"timecode\":\"0:39\",\n  \"caption\":\"The text changes to \\\"STORY, PAINTED ACROSS THE SKY.\\\"\"\n}\n]\n```"
          },
          "metadata": {}
        }
      ]
    }
  ]
}